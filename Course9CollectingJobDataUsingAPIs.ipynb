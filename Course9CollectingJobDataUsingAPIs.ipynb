{
 "cells": [
  {
   "cell_type": "code",
   "execution_count": 97,
   "id": "94d0a207-0ce0-4d02-8bdd-bfef40f0bcc1",
   "metadata": {},
   "outputs": [],
   "source": [
    "import requests\n",
    "import json\n",
    "import pandas as pd"
   ]
  },
  {
   "cell_type": "code",
   "execution_count": 100,
   "id": "631b364c-215e-463a-a927-8978c5d2475a",
   "metadata": {},
   "outputs": [
    {
     "data": {
      "text/html": [
       "<div>\n",
       "<style scoped>\n",
       "    .dataframe tbody tr th:only-of-type {\n",
       "        vertical-align: middle;\n",
       "    }\n",
       "\n",
       "    .dataframe tbody tr th {\n",
       "        vertical-align: top;\n",
       "    }\n",
       "\n",
       "    .dataframe thead th {\n",
       "        text-align: right;\n",
       "    }\n",
       "</style>\n",
       "<table border=\"1\" class=\"dataframe\">\n",
       "  <thead>\n",
       "    <tr style=\"text-align: right;\">\n",
       "      <th></th>\n",
       "      <th>Id</th>\n",
       "      <th>Job Title</th>\n",
       "      <th>Job Experience Required</th>\n",
       "      <th>Key Skills</th>\n",
       "      <th>Role Category</th>\n",
       "      <th>Location</th>\n",
       "      <th>Functional Area</th>\n",
       "      <th>Industry</th>\n",
       "      <th>Role</th>\n",
       "    </tr>\n",
       "  </thead>\n",
       "  <tbody>\n",
       "    <tr>\n",
       "      <th>0</th>\n",
       "      <td>0</td>\n",
       "      <td>Digital Media Planner</td>\n",
       "      <td>5 - 10 yrs</td>\n",
       "      <td>Media Planning| Digital Media</td>\n",
       "      <td>Advertising</td>\n",
       "      <td>Los Angeles</td>\n",
       "      <td>Marketing , Advertising , MR , PR , Media Planning</td>\n",
       "      <td>Advertising, PR, MR, Event Management</td>\n",
       "      <td>Media Planning Executive/Manager</td>\n",
       "    </tr>\n",
       "    <tr>\n",
       "      <th>1</th>\n",
       "      <td>1</td>\n",
       "      <td>Online Bidding Executive</td>\n",
       "      <td>2 - 5 yrs</td>\n",
       "      <td>pre sales| closing| software knowledge| clients| requirements| negotiating| client| online bidding| good communication| technology</td>\n",
       "      <td>Retail Sales</td>\n",
       "      <td>New York</td>\n",
       "      <td>Sales , Retail , Business Development</td>\n",
       "      <td>IT-Software, Software Services</td>\n",
       "      <td>Sales Executive/Officer</td>\n",
       "    </tr>\n",
       "    <tr>\n",
       "      <th>2</th>\n",
       "      <td>2</td>\n",
       "      <td>Trainee Research/ Research Executive- Hi- Tech Operations</td>\n",
       "      <td>0 - 1 yrs</td>\n",
       "      <td>Computer science| Fabrication| Quality check| Intellectual property| Electronics| Support services| Research| Management| Human resource management| Research Executive</td>\n",
       "      <td>R&amp;D</td>\n",
       "      <td>San Francisco</td>\n",
       "      <td>Engineering Design , R&amp;D</td>\n",
       "      <td>Recruitment, Staffing</td>\n",
       "      <td>R&amp;D Executive</td>\n",
       "    </tr>\n",
       "    <tr>\n",
       "      <th>3</th>\n",
       "      <td>3</td>\n",
       "      <td>Technical Support</td>\n",
       "      <td>0 - 5 yrs</td>\n",
       "      <td>Technical Support</td>\n",
       "      <td>Admin/Maintenance/Security/Datawarehousing</td>\n",
       "      <td>Washington DC</td>\n",
       "      <td>IT Software - Application Programming , Maintenance</td>\n",
       "      <td>IT-Software, Software Services</td>\n",
       "      <td>Technical Support Engineer</td>\n",
       "    </tr>\n",
       "    <tr>\n",
       "      <th>4</th>\n",
       "      <td>4</td>\n",
       "      <td>Software Test Engineer -hyderabad</td>\n",
       "      <td>2 - 5 yrs</td>\n",
       "      <td>manual testing| test engineering| test cases| web testing| web technologies</td>\n",
       "      <td>Programming &amp; Design</td>\n",
       "      <td>Boston</td>\n",
       "      <td>IT Software - QA &amp; Testing</td>\n",
       "      <td>IT-Software, Software Services</td>\n",
       "      <td>Testing Engineer</td>\n",
       "    </tr>\n",
       "  </tbody>\n",
       "</table>\n",
       "</div>"
      ],
      "text/plain": [
       "   Id                                                  Job Title  \\\n",
       "0   0                                      Digital Media Planner   \n",
       "1   1                                   Online Bidding Executive   \n",
       "2   2  Trainee Research/ Research Executive- Hi- Tech Operations   \n",
       "3   3                                          Technical Support   \n",
       "4   4                          Software Test Engineer -hyderabad   \n",
       "\n",
       "  Job Experience Required  \\\n",
       "0              5 - 10 yrs   \n",
       "1               2 - 5 yrs   \n",
       "2               0 - 1 yrs   \n",
       "3               0 - 5 yrs   \n",
       "4               2 - 5 yrs   \n",
       "\n",
       "                                                                                                                                                                Key Skills  \\\n",
       "0                                                                                                                                            Media Planning| Digital Media   \n",
       "1                                       pre sales| closing| software knowledge| clients| requirements| negotiating| client| online bidding| good communication| technology   \n",
       "2  Computer science| Fabrication| Quality check| Intellectual property| Electronics| Support services| Research| Management| Human resource management| Research Executive   \n",
       "3                                                                                                                                                        Technical Support   \n",
       "4                                                                                              manual testing| test engineering| test cases| web testing| web technologies   \n",
       "\n",
       "                                Role Category       Location  \\\n",
       "0                                 Advertising    Los Angeles   \n",
       "1                                Retail Sales       New York   \n",
       "2                                         R&D  San Francisco   \n",
       "3  Admin/Maintenance/Security/Datawarehousing  Washington DC   \n",
       "4                        Programming & Design         Boston   \n",
       "\n",
       "                                       Functional Area  \\\n",
       "0   Marketing , Advertising , MR , PR , Media Planning   \n",
       "1                Sales , Retail , Business Development   \n",
       "2                             Engineering Design , R&D   \n",
       "3  IT Software - Application Programming , Maintenance   \n",
       "4                           IT Software - QA & Testing   \n",
       "\n",
       "                                Industry                              Role  \n",
       "0  Advertising, PR, MR, Event Management  Media Planning Executive/Manager  \n",
       "1         IT-Software, Software Services           Sales Executive/Officer  \n",
       "2                  Recruitment, Staffing                     R&D Executive  \n",
       "3         IT-Software, Software Services        Technical Support Engineer  \n",
       "4         IT-Software, Software Services                  Testing Engineer  "
      ]
     },
     "execution_count": 100,
     "metadata": {},
     "output_type": "execute_result"
    }
   ],
   "source": [
    "df = pd.read_json(\"https://cf-courses-data.s3.us.cloud-object-storage.appdomain.cloud/IBM-DA0321EN-SkillsNetwork/labs/module%201/Accessing%20Data%20Using%20APIs/jobs.json\")  \n",
    "df.head()\n",
    "# baseurl = \"https://cf-courses-data.s3.us.cloud-object-storage.appdomain.cloud/IBM-DA0321EN-SkillsNetwork/labs/module%201/Accessing%20Data%20Using%20APIs/jobs.json\""
   ]
  },
  {
   "cell_type": "code",
   "execution_count": 101,
   "id": "3b6e9d6c-ebec-4c81-bb2f-b0dcfe5d01f5",
   "metadata": {},
   "outputs": [
    {
     "data": {
      "text/plain": [
       "1173"
      ]
     },
     "execution_count": 101,
     "metadata": {},
     "output_type": "execute_result"
    }
   ],
   "source": [
    "df_jobslist = df[df[\"Key Skills\"].str.contains(\"Python\")]\n",
    "count = len(df_jobslist)  \n",
    "count"
   ]
  },
  {
   "cell_type": "code",
   "execution_count": 102,
   "id": "e3896b65-6814-4244-8d8c-f1e5ed0abb65",
   "metadata": {},
   "outputs": [],
   "source": [
    "def get_number_of_jobs(technology):\n",
    "    number_of_jobs= 0\n",
    "    df_jobslist = df[df[\"Key Skills\"].str.contains(technology)]\n",
    "    number_of_jobs = len(df_jobslist)  \n",
    "    return technology,number_of_jobs"
   ]
  },
  {
   "cell_type": "code",
   "execution_count": 103,
   "id": "69dc05ee-5858-4e71-81b6-1bbb0693caba",
   "metadata": {},
   "outputs": [
    {
     "name": "stdout",
     "output_type": "stream",
     "text": [
      "('Python', 1173)\n"
     ]
    }
   ],
   "source": [
    "print(get_number_of_jobs('Python'))"
   ]
  },
  {
   "cell_type": "code",
   "execution_count": 104,
   "id": "60e6118d-90d0-48e0-97ec-99b23988d896",
   "metadata": {},
   "outputs": [],
   "source": [
    "def get_number_of_jobs_L(location):\n",
    "    number_of_jobs= 0\n",
    "    df_loclist = df[df[\"Location\"].str.contains(location)]\n",
    "    number_of_jobs = len(df_loclist)  \n",
    "    return location,number_of_jobs"
   ]
  },
  {
   "cell_type": "code",
   "execution_count": 105,
   "id": "374f40cd-e9aa-4118-a1b6-0b0ff40f9658",
   "metadata": {},
   "outputs": [
    {
     "data": {
      "text/plain": [
       "array(['Los Angeles', 'New York', 'San Francisco', 'Washington DC',\n",
       "       'Boston', 'Seattle', 'Detroit', 'Austin', 'Houston',\n",
       "       'Philadelphia', 'New Orleons', 'Baltimore', 'Dallas'], dtype=object)"
      ]
     },
     "execution_count": 105,
     "metadata": {},
     "output_type": "execute_result"
    }
   ],
   "source": [
    "df.Location.unique()"
   ]
  },
  {
   "cell_type": "code",
   "execution_count": 106,
   "id": "4676e208-4e96-4e8e-b97b-bced5c5e7932",
   "metadata": {},
   "outputs": [
    {
     "data": {
      "text/plain": [
       "('Los Angeles', 640)"
      ]
     },
     "execution_count": 106,
     "metadata": {},
     "output_type": "execute_result"
    }
   ],
   "source": [
    "get_number_of_jobs_L('Los Angeles')"
   ]
  },
  {
   "cell_type": "code",
   "execution_count": 107,
   "id": "f072eddd-9727-400d-80e2-fafce6e8264b",
   "metadata": {},
   "outputs": [
    {
     "data": {
      "text/plain": [
       "Location\n",
       "Washington DC    5316\n",
       "Detroit          3945\n",
       "Seattle          3375\n",
       "Houston          3339\n",
       "New York         3226\n",
       "Boston           2966\n",
       "Baltimore        1263\n",
       "Dallas           1208\n",
       "New Orleons       817\n",
       "Los Angeles       640\n",
       "San Francisco     435\n",
       "Austin            434\n",
       "Philadelphia       41\n",
       "dtype: int64"
      ]
     },
     "execution_count": 107,
     "metadata": {},
     "output_type": "execute_result"
    }
   ],
   "source": [
    "df_loccount = df.groupby(['Location']).size()\n",
    "df_loccount.sort_values(ascending=False)"
   ]
  },
  {
   "cell_type": "code",
   "execution_count": 144,
   "id": "fd2ac5a3-b959-4ed5-8406-05634948da2f",
   "metadata": {},
   "outputs": [
    {
     "data": {
      "text/plain": [
       "['C',\n",
       " 'C%23',\n",
       " 'C%2B%2B',\n",
       " 'Java',\n",
       " 'JavaScript',\n",
       " 'Python',\n",
       " 'Scala',\n",
       " 'Oracle',\n",
       " 'SQL Server',\n",
       " 'MySQL Server',\n",
       " 'PostgreSQL',\n",
       " 'MongoDB']"
      ]
     },
     "execution_count": 144,
     "metadata": {},
     "output_type": "execute_result"
    }
   ],
   "source": [
    "technologies = ['C','C%23','C%2B%2B','Java','JavaScript','Python','Scala','Oracle','SQL Server','MySQL Server','PostgreSQL','MongoDB']\n",
    "technologies"
   ]
  },
  {
   "cell_type": "code",
   "execution_count": 133,
   "id": "8d1c3578-8746-485f-a558-e953966d2939",
   "metadata": {},
   "outputs": [
    {
     "name": "stdout",
     "output_type": "stream",
     "text": [
      "Requirement already satisfied: openpyxl in c:\\anaconda6.2.1\\lib\\site-packages (3.0.10)\n",
      "Requirement already satisfied: et_xmlfile in c:\\anaconda6.2.1\\lib\\site-packages (from openpyxl) (1.1.0)\n"
     ]
    }
   ],
   "source": [
    "!pip3 install openpyxl\n",
    "from openpyxl import Workbook"
   ]
  },
  {
   "cell_type": "code",
   "execution_count": 151,
   "id": "05719e88-c8cd-472e-90f9-055faf6f1523",
   "metadata": {},
   "outputs": [
    {
     "data": {
      "text/plain": [
       "<Worksheet \"Sheet\">"
      ]
     },
     "execution_count": 151,
     "metadata": {},
     "output_type": "execute_result"
    }
   ],
   "source": [
    "wb=Workbook() \n",
    "ws=wb.active\n",
    "ws"
   ]
  },
  {
   "cell_type": "code",
   "execution_count": 154,
   "id": "9fb06227-2b07-4a53-bca8-a01a1c6f7dfc",
   "metadata": {},
   "outputs": [
    {
     "name": "stdout",
     "output_type": "stream",
     "text": [
      "('C', 13498)\n",
      "('C%23', 0)\n",
      "('C%2B%2B', 0)\n",
      "('Java', 2609)\n",
      "('JavaScript', 355)\n",
      "('Python', 1173)\n",
      "('Scala', 33)\n",
      "('Oracle', 784)\n",
      "('SQL Server', 250)\n",
      "('MySQL Server', 0)\n",
      "('PostgreSQL', 10)\n",
      "('MongoDB', 174)\n"
     ]
    },
    {
     "data": {
      "text/plain": [
       "[None, None, None, None, None, None, None, None, None, None, None, None]"
      ]
     },
     "execution_count": 154,
     "metadata": {},
     "output_type": "execute_result"
    }
   ],
   "source": [
    "tech_list = list()\n",
    "for language in technologies:\n",
    "    jobs = get_number_of_jobs(language)\n",
    "    print(jobs) \n",
    "    tech_list.append(jobs)\n",
    "    \n",
    "ws.append(['Language', 'Job Postings'])\n",
    "[ws.append(i) for i in tech_list]"
   ]
  },
  {
   "cell_type": "code",
   "execution_count": 155,
   "id": "2e997b64-4380-418f-a183-5fefc9451f98",
   "metadata": {},
   "outputs": [],
   "source": [
    "wb.save(r\"C:\\Users\\rajes\\OneDrive\\Desktop\\df_skills11.xlsx\")"
   ]
  },
  {
   "cell_type": "code",
   "execution_count": 156,
   "id": "c064fa98-41b3-4a50-b4a5-8fcef04f3e7f",
   "metadata": {},
   "outputs": [],
   "source": [
    "#Only for learning purpose\n",
    "# pd.set_option('max_colwidth', None) # show full width of showing cols\n",
    "#pd.set_option('display.max_rows', None)"
   ]
  },
  {
   "cell_type": "code",
   "execution_count": 184,
   "id": "2b271b02-ce03-4c6e-a680-a725531b57e2",
   "metadata": {},
   "outputs": [],
   "source": [
    "#Only for learning purpose\n",
    "# df_skills = df[['Job Title', 'Key Skills']]\n",
    "# df_skills.head()"
   ]
  },
  {
   "cell_type": "code",
   "execution_count": null,
   "id": "81fd0b48-dc49-48ab-a6d0-f50278e1ddbb",
   "metadata": {},
   "outputs": [],
   "source": [
    "#Only for learning purpose\n",
    "#df_skills['Job Title'].str.strip()\n",
    "#df_skills['Key Skills'].str.strip()\n",
    "#df_skills"
   ]
  },
  {
   "cell_type": "code",
   "execution_count": 178,
   "id": "3b82b9b6-66b2-42c3-ae72-c7a73ed6a7bf",
   "metadata": {},
   "outputs": [],
   "source": [
    "#Only for learning purpose\n",
    "#style.set_properties only styles for display does not actually change alignment in dataframe\n",
    "# dfStyler = df_skills.style.set_properties(**{'text-align': 'left'})\n",
    "# dfStyler.set_table_styles([dict(selector='th', props=[('text-align', 'left')])])\n",
    "# dfStyler"
   ]
  },
  {
   "cell_type": "code",
   "execution_count": 179,
   "id": "ffe4ef74-7281-4759-b9d8-7609a7ef999d",
   "metadata": {},
   "outputs": [],
   "source": [
    "#Only for learning purpose by splitting using the delimiter\n",
    "# Split text into a list\n",
    "# df_skills['Key Skills'] = df_skills['Key Skills'].str.split('|')\n",
    "# df_skills.head()"
   ]
  },
  {
   "cell_type": "code",
   "execution_count": 180,
   "id": "cc89f19b-80c4-4063-bc33-c85fb4607f74",
   "metadata": {},
   "outputs": [],
   "source": [
    "#Only for learning purpose\n",
    "# Convert list into multiple rows\n",
    "# df_skills = df_skills.explode('Key Skills')\n",
    "# df_skills.head(20)"
   ]
  },
  {
   "cell_type": "code",
   "execution_count": 181,
   "id": "5231bbf6-eb63-42e8-ba2c-e8356b6fe5f5",
   "metadata": {},
   "outputs": [],
   "source": [
    "#Only for learning purpose\n",
    "# df_skills.groupby(['Key Skills']).agg(['count']).sort_values(['Key Skills'], ascending=True)"
   ]
  },
  {
   "cell_type": "code",
   "execution_count": 182,
   "id": "c6f65808-e390-4052-8fa4-94254c5f03c1",
   "metadata": {},
   "outputs": [],
   "source": [
    "# df_skills[df_skills['Key Skills'].str.contains('Python', na=False)].reset_index()"
   ]
  },
  {
   "cell_type": "code",
   "execution_count": 183,
   "id": "02ad4e3e-7cb6-482b-88a3-e31734c1c7bc",
   "metadata": {},
   "outputs": [],
   "source": [
    "#Only for learning purpose\n",
    "# df_skills.query('`Key Skills`.str.contains(\"Python\")', engine='python').shape[0]"
   ]
  },
  {
   "cell_type": "code",
   "execution_count": null,
   "id": "45256728-1c10-49c2-b806-3828604f1907",
   "metadata": {},
   "outputs": [],
   "source": []
  },
  {
   "cell_type": "code",
   "execution_count": null,
   "id": "6fe7e3cf-a98b-4b18-b665-6f668bb3e7b8",
   "metadata": {},
   "outputs": [],
   "source": []
  },
  {
   "cell_type": "code",
   "execution_count": null,
   "id": "fb0863a4-447f-494e-949e-e679d715eacb",
   "metadata": {},
   "outputs": [],
   "source": []
  }
 ],
 "metadata": {
  "kernelspec": {
   "display_name": "Python 3 (ipykernel)",
   "language": "python",
   "name": "python3"
  },
  "language_info": {
   "codemirror_mode": {
    "name": "ipython",
    "version": 3
   },
   "file_extension": ".py",
   "mimetype": "text/x-python",
   "name": "python",
   "nbconvert_exporter": "python",
   "pygments_lexer": "ipython3",
   "version": "3.11.7"
  }
 },
 "nbformat": 4,
 "nbformat_minor": 5
}
